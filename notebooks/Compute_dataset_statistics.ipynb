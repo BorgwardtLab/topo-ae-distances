{
 "cells": [
  {
   "cell_type": "code",
   "execution_count": 1,
   "metadata": {},
   "outputs": [],
   "source": [
    "import sys\n",
    "sys.path.append('..')"
   ]
  },
  {
   "cell_type": "code",
   "execution_count": 2,
   "metadata": {},
   "outputs": [],
   "source": [
    "import numpy as np\n",
    "from torchvision import datasets\n",
    "from torchvision.transforms import ToTensor\n",
    "from src.datasets.coil100 import COIL100Base"
   ]
  },
  {
   "cell_type": "code",
   "execution_count": 4,
   "metadata": {},
   "outputs": [
    {
     "name": "stdout",
     "output_type": "stream",
     "text": [
      "Files already downloaded and verified\n"
     ]
    }
   ],
   "source": [
    "dataset_list = [\n",
    "    datasets.MNIST(root='../data', train=True, transform=ToTensor()), \n",
    "    datasets.FashionMNIST(root='../data', train=True, transform=ToTensor()),\n",
    "    datasets.STL10(root='../data', split='train', transform=ToTensor(), download=True),\n",
    "    COIL100Base(root='../data', transform=ToTensor(), train=True)\n",
    "]"
   ]
  },
  {
   "cell_type": "code",
   "execution_count": 5,
   "metadata": {},
   "outputs": [
    {
     "name": "stdout",
     "output_type": "stream",
     "text": [
      "MNIST ((0.13066062,), (0.30810776,))\n",
      "FashionMNIST ((0.2860402,), (0.3530239,))\n",
      "STL10 ((0.44671103, 0.43980882, 0.40664575), (0.2603408, 0.25657743, 0.2712671))\n",
      "COIL100Base ((0.1580247, 0.1580247, 0.13644657), (0.28469974, 0.22121184, 0.19787617))\n"
     ]
    }
   ],
   "source": [
    "for dataset in dataset_list:\n",
    "    data, labels = zip(*dataset)\n",
    "    data = np.stack(data)\n",
    "    data_flat = np.reshape(data, (data.shape[0], data.shape[1], -1))\n",
    "    mean = np.mean(data_flat, axis=(0, 2))\n",
    "    std = np.std(data_flat, axis=(0, 2))\n",
    "    print(dataset.__class__.__name__, (tuple(mean), tuple(std)))"
   ]
  },
  {
   "cell_type": "code",
   "execution_count": null,
   "metadata": {},
   "outputs": [],
   "source": []
  }
 ],
 "metadata": {
  "kernelspec": {
   "display_name": "Python3 (topologically)",
   "language": "python",
   "name": "topologically-constrained-autoencoder-pra2oj40"
  },
  "language_info": {
   "codemirror_mode": {
    "name": "ipython",
    "version": 3
   },
   "file_extension": ".py",
   "mimetype": "text/x-python",
   "name": "python",
   "nbconvert_exporter": "python",
   "pygments_lexer": "ipython3",
   "version": "3.6.7"
  }
 },
 "nbformat": 4,
 "nbformat_minor": 2
}
