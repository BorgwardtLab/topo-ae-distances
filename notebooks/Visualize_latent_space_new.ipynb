{
 "cells": [
  {
   "cell_type": "code",
   "execution_count": 1,
   "metadata": {
    "scrolled": true
   },
   "outputs": [
    {
     "data": {
      "text/plain": [
       "<torch._C.Generator at 0x7f29736b4570>"
      ]
     },
     "execution_count": 1,
     "metadata": {},
     "output_type": "execute_result"
    }
   ],
   "source": [
    "%matplotlib inline\n",
    "import os\n",
    "import sys\n",
    "sys.path.append(os.path.join(os.getcwd(), '..'))\n",
    "\n",
    "import numpy as np\n",
    "import matplotlib\n",
    "import matplotlib.pyplot as plt\n",
    "from sklearn.manifold import TSNE\n",
    "\n",
    "import torch\n",
    "from torch.utils.data import DataLoader\n",
    "from torchvision.datasets import MNIST\n",
    "from torchvision import transforms\n",
    "\n",
    "from experiment1 import Autoencoder, to_img\n",
    "\n",
    "torch.manual_seed(42)"
   ]
  },
  {
   "cell_type": "code",
   "execution_count": 90,
   "metadata": {},
   "outputs": [],
   "source": [
    "batch_size = 32\n",
    "\n",
    "# Load data\n",
    "img_transform = transforms.Compose([\n",
    "        transforms.ToTensor(),\n",
    "        transforms.Normalize((0.5,), (0.5,))\n",
    "    ])\n",
    "\n",
    "dataset = MNIST('../data', transform=img_transform, download=True)\n",
    "dataloader = DataLoader(dataset, batch_size=batch_size, shuffle=True)\n",
    "\n",
    "# Load model\n",
    "model = Autoencoder()\n",
    "model_state = torch.load('../trained_models/experiment1.pth')\n",
    "#model_state = torch.load('../examples/conv_autoencoder.pth')\n",
    "model.load_state_dict(model_state)"
   ]
  },
  {
   "cell_type": "code",
   "execution_count": 91,
   "metadata": {},
   "outputs": [],
   "source": [
    "full_latent_space = []\n",
    "all_labels = []\n",
    "\n",
    "for index, batch in enumerate(dataloader):\n",
    "    image, label = batch\n",
    "    latent, reconst = model(image)\n",
    "    latent = latent.detach().numpy()\n",
    "    reconst = reconst.detach().numpy()\n",
    "    \n",
    "    full_latent_space.append(latent)\n",
    "    all_labels.append(label)\n",
    "    \n",
    "    #if index == 199:\n",
    "    #    break\n",
    "\n",
    "full_latent_space = np.concatenate(full_latent_space, axis=0)\n",
    "all_labels = np.concatenate(all_labels, axis=0)"
   ]
  },
  {
   "cell_type": "code",
   "execution_count": null,
   "metadata": {},
   "outputs": [],
   "source": [
    "tsne = TSNE(random_state=42)\n",
    "transformed = tsne.fit_transform(full_latent_space)\n",
    "color_mapping = matplotlib.cm.rainbow(np.linspace(0, 1, 10))\n",
    "\n"
   ]
  },
  {
   "cell_type": "code",
   "execution_count": null,
   "metadata": {},
   "outputs": [],
   "source": [
    "distinct_labels = np.unique(all_labels)\n",
    "colors = [color_mapping[cl] for cl in distinct_labels]\n",
    "for i, label in enumerate(distinct_labels):\n",
    "    mask = (all_labels == label).astype(int)\n",
    "    inds = list(np.where(mask)[0])\n",
    "    plt.scatter(transformed[inds, 0], transformed[inds, 1], c=colors[i], label=label, s=1)\n",
    "\n",
    "lgnd = plt.legend(loc=\"lower left\")\n",
    "for i,_ in enumerate(distinct_labels):\n",
    "    lgnd.legendHandles[i]._sizes = [30]"
   ]
  },
  {
   "cell_type": "code",
   "execution_count": null,
   "metadata": {},
   "outputs": [],
   "source": []
  }
 ],
 "metadata": {
  "kernelspec": {
   "display_name": "topologically-constrained-autoencoder",
   "language": "python",
   "name": "topologically-constrained-autoencoder"
  },
  "language_info": {
   "codemirror_mode": {
    "name": "ipython",
    "version": 3
   },
   "file_extension": ".py",
   "mimetype": "text/x-python",
   "name": "python",
   "nbconvert_exporter": "python",
   "pygments_lexer": "ipython3",
   "version": "3.6.4"
  }
 },
 "nbformat": 4,
 "nbformat_minor": 2
}
